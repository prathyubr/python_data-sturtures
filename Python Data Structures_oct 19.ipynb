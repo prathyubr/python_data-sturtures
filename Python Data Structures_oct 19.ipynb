{
 "cells": [
  {
   "cell_type": "markdown",
   "id": "c43d79b7",
   "metadata": {},
   "source": [
    "## 4 Data Structures in Python\n",
    "\n",
    "* List\n",
    "* Set\n",
    "* Tuple\n",
    "* Dict"
   ]
  },
  {
   "cell_type": "markdown",
   "id": "e35669c3",
   "metadata": {},
   "source": [
    "### 1. List\n",
    "\n",
    "* 1D\n",
    "* Heteregenous\n",
    "* Allows duplicate elements\n",
    "* Mutable / It is changeable\n",
    "* Indexable and Slicable"
   ]
  },
  {
   "cell_type": "code",
   "execution_count": 1,
   "id": "deec8ce6",
   "metadata": {},
   "outputs": [],
   "source": [
    "empty_cart_1 = []"
   ]
  },
  {
   "cell_type": "code",
   "execution_count": 2,
   "id": "a05b62af",
   "metadata": {},
   "outputs": [
    {
     "data": {
      "text/plain": [
       "list"
      ]
     },
     "execution_count": 2,
     "metadata": {},
     "output_type": "execute_result"
    }
   ],
   "source": [
    "type(empty_cart_1)"
   ]
  },
  {
   "cell_type": "code",
   "execution_count": 3,
   "id": "ea18276f",
   "metadata": {},
   "outputs": [
    {
     "data": {
      "text/plain": [
       "[1, 2, 3, 'Nandheesh', 8, 1234]"
      ]
     },
     "execution_count": 3,
     "metadata": {},
     "output_type": "execute_result"
    }
   ],
   "source": [
    "learner_details = [1,2,3,'Nandheesh',8,1234]\n",
    "learner_details"
   ]
  },
  {
   "cell_type": "code",
   "execution_count": 4,
   "id": "2b8b056c",
   "metadata": {},
   "outputs": [
    {
     "data": {
      "text/plain": [
       "list"
      ]
     },
     "execution_count": 4,
     "metadata": {},
     "output_type": "execute_result"
    }
   ],
   "source": [
    "type(learner_details)"
   ]
  },
  {
   "cell_type": "code",
   "execution_count": 5,
   "id": "8ce55ae6",
   "metadata": {},
   "outputs": [
    {
     "data": {
      "text/plain": [
       "[1, 2, 3, 'Nandheesh', 8, 1234, 1, 1, 1, 1, 1, 2, 2, 2, 2, 2, 3]"
      ]
     },
     "execution_count": 5,
     "metadata": {},
     "output_type": "execute_result"
    }
   ],
   "source": [
    "learner_details = [1,2,3,'Nandheesh',8,1234,1,1,1,1,1,2,2,2,2,2,3]\n",
    "learner_details"
   ]
  },
  {
   "cell_type": "code",
   "execution_count": 6,
   "id": "51efbcfb",
   "metadata": {},
   "outputs": [],
   "source": [
    "learner_details[3] = 'Javid'"
   ]
  },
  {
   "cell_type": "code",
   "execution_count": 7,
   "id": "b27f7345",
   "metadata": {},
   "outputs": [
    {
     "data": {
      "text/plain": [
       "[1, 2, 3, 'Javid', 8, 1234, 1, 1, 1, 1, 1, 2, 2, 2, 2, 2, 3]"
      ]
     },
     "execution_count": 7,
     "metadata": {},
     "output_type": "execute_result"
    }
   ],
   "source": [
    "learner_details"
   ]
  },
  {
   "cell_type": "code",
   "execution_count": 8,
   "id": "ecadfda8",
   "metadata": {},
   "outputs": [
    {
     "data": {
      "text/plain": [
       "['Javid', 8, 1234]"
      ]
     },
     "execution_count": 8,
     "metadata": {},
     "output_type": "execute_result"
    }
   ],
   "source": [
    "learner_details[3:6]"
   ]
  },
  {
   "cell_type": "code",
   "execution_count": 25,
   "id": "8813806c",
   "metadata": {},
   "outputs": [],
   "source": [
    "learner_details.append(428)"
   ]
  },
  {
   "cell_type": "code",
   "execution_count": 26,
   "id": "3bdd0df0",
   "metadata": {},
   "outputs": [
    {
     "data": {
      "text/plain": [
       "[1, 2, 3, 'Javid', 8, 1234, 1, 1, 1, 1, 1, 2, 2, 2, 2, 2, 3, '428', 428]"
      ]
     },
     "execution_count": 26,
     "metadata": {},
     "output_type": "execute_result"
    }
   ],
   "source": [
    "learner_details"
   ]
  },
  {
   "cell_type": "markdown",
   "id": "1b6fdd02",
   "metadata": {},
   "source": [
    "## 2. Sets\n",
    "\n",
    "* Heteregenous\n",
    "* 1D\n",
    "* Mutable\n",
    "* It will never allow duplicate elements.\n",
    "* Not indexable/ Not slicing"
   ]
  },
  {
   "cell_type": "code",
   "execution_count": 9,
   "id": "104e01de",
   "metadata": {},
   "outputs": [],
   "source": [
    "empty_cart_2 = set()"
   ]
  },
  {
   "cell_type": "code",
   "execution_count": 10,
   "id": "5adffe61",
   "metadata": {},
   "outputs": [
    {
     "data": {
      "text/plain": [
       "set"
      ]
     },
     "execution_count": 10,
     "metadata": {},
     "output_type": "execute_result"
    }
   ],
   "source": [
    "type(empty_cart_2)"
   ]
  },
  {
   "cell_type": "code",
   "execution_count": 11,
   "id": "2044aa82",
   "metadata": {},
   "outputs": [
    {
     "data": {
      "text/plain": [
       "{'Almonds', 'Cashews', 'Milk', 'oats', 'potato'}"
      ]
     },
     "execution_count": 11,
     "metadata": {},
     "output_type": "execute_result"
    }
   ],
   "source": [
    "cart_3 = {'potato','oats','Milk','Almonds','Cashews'}\n",
    "cart_3"
   ]
  },
  {
   "cell_type": "code",
   "execution_count": 15,
   "id": "381fdb1a",
   "metadata": {},
   "outputs": [
    {
     "data": {
      "text/plain": [
       "{'Almonds', 'Cashews', 'Milk', 'oats', 'potato'}"
      ]
     },
     "execution_count": 15,
     "metadata": {},
     "output_type": "execute_result"
    }
   ],
   "source": [
    "cart_4 = {'potato','oats','Milk','Almonds','Cashews','potato','oats'}\n",
    "cart_4"
   ]
  },
  {
   "cell_type": "code",
   "execution_count": 17,
   "id": "1416abef",
   "metadata": {},
   "outputs": [
    {
     "ename": "TypeError",
     "evalue": "'set' object does not support item assignment",
     "output_type": "error",
     "traceback": [
      "\u001b[1;31m---------------------------------------------------------------------------\u001b[0m",
      "\u001b[1;31mTypeError\u001b[0m                                 Traceback (most recent call last)",
      "\u001b[1;32m<ipython-input-17-ea868005321e>\u001b[0m in \u001b[0;36m<module>\u001b[1;34m\u001b[0m\n\u001b[1;32m----> 1\u001b[1;33m \u001b[0mcart_4\u001b[0m\u001b[1;33m[\u001b[0m\u001b[1;36m0\u001b[0m\u001b[1;33m]\u001b[0m \u001b[1;33m=\u001b[0m \u001b[1;34m'Carrot'\u001b[0m\u001b[1;33m\u001b[0m\u001b[1;33m\u001b[0m\u001b[0m\n\u001b[0m",
      "\u001b[1;31mTypeError\u001b[0m: 'set' object does not support item assignment"
     ]
    }
   ],
   "source": [
    "cart_4[0]"
   ]
  },
  {
   "cell_type": "code",
   "execution_count": 18,
   "id": "f175daf2",
   "metadata": {},
   "outputs": [],
   "source": [
    "cart_4.add('Carrot')"
   ]
  },
  {
   "cell_type": "code",
   "execution_count": 19,
   "id": "c4465908",
   "metadata": {},
   "outputs": [
    {
     "data": {
      "text/plain": [
       "{'Almonds', 'Carrot', 'Cashews', 'Milk', 'oats', 'potato'}"
      ]
     },
     "execution_count": 19,
     "metadata": {},
     "output_type": "execute_result"
    }
   ],
   "source": [
    "cart_4"
   ]
  },
  {
   "cell_type": "code",
   "execution_count": 21,
   "id": "8823a594",
   "metadata": {},
   "outputs": [],
   "source": [
    "cart_4.clear()"
   ]
  },
  {
   "cell_type": "code",
   "execution_count": 22,
   "id": "17ee11b2",
   "metadata": {},
   "outputs": [
    {
     "data": {
      "text/plain": [
       "set()"
      ]
     },
     "execution_count": 22,
     "metadata": {},
     "output_type": "execute_result"
    }
   ],
   "source": [
    "cart_4"
   ]
  },
  {
   "cell_type": "markdown",
   "id": "fca06c9b",
   "metadata": {},
   "source": [
    "## 3. Tuple"
   ]
  },
  {
   "cell_type": "markdown",
   "id": "fa31fc01",
   "metadata": {},
   "source": [
    "* 1D\n",
    "* Homogenous\n",
    "* Allows duplicate elements\n",
    "* Immutable\n",
    "* Indexable/ Sliceable"
   ]
  },
  {
   "cell_type": "code",
   "execution_count": 27,
   "id": "4e568a70",
   "metadata": {},
   "outputs": [],
   "source": [
    "empty_cart_4 = ()"
   ]
  },
  {
   "cell_type": "code",
   "execution_count": 28,
   "id": "7d84353d",
   "metadata": {},
   "outputs": [
    {
     "data": {
      "text/plain": [
       "tuple"
      ]
     },
     "execution_count": 28,
     "metadata": {},
     "output_type": "execute_result"
    }
   ],
   "source": [
    "type(empty_cart_4)"
   ]
  },
  {
   "cell_type": "code",
   "execution_count": 36,
   "id": "79646ca7",
   "metadata": {},
   "outputs": [
    {
     "data": {
      "text/plain": [
       "('Almonds', 'Carrot', 'Cashews', 'Milk', 'oats', 'potato', 'potato')"
      ]
     },
     "execution_count": 36,
     "metadata": {},
     "output_type": "execute_result"
    }
   ],
   "source": [
    "cart_4 = ('Almonds', 'Carrot', 'Cashews', 'Milk', 'oats', 'potato','potato')\n",
    "cart_4"
   ]
  },
  {
   "cell_type": "code",
   "execution_count": 32,
   "id": "b57b5e94",
   "metadata": {},
   "outputs": [
    {
     "data": {
      "text/plain": [
       "tuple"
      ]
     },
     "execution_count": 32,
     "metadata": {},
     "output_type": "execute_result"
    }
   ],
   "source": [
    "type(cart_4)"
   ]
  },
  {
   "cell_type": "code",
   "execution_count": 33,
   "id": "16eb353f",
   "metadata": {},
   "outputs": [
    {
     "data": {
      "text/plain": [
       "'Carrot'"
      ]
     },
     "execution_count": 33,
     "metadata": {},
     "output_type": "execute_result"
    }
   ],
   "source": [
    "cart_4[1]"
   ]
  },
  {
   "cell_type": "code",
   "execution_count": 34,
   "id": "1fb5da5c",
   "metadata": {},
   "outputs": [
    {
     "data": {
      "text/plain": [
       "('Almonds', 'Carrot', 'Cashews', 'Milk', 'oats')"
      ]
     },
     "execution_count": 34,
     "metadata": {},
     "output_type": "execute_result"
    }
   ],
   "source": [
    "cart_4[:-1]"
   ]
  },
  {
   "cell_type": "code",
   "execution_count": 35,
   "id": "2a6a1834",
   "metadata": {},
   "outputs": [
    {
     "ename": "TypeError",
     "evalue": "'tuple' object does not support item assignment",
     "output_type": "error",
     "traceback": [
      "\u001b[1;31m---------------------------------------------------------------------------\u001b[0m",
      "\u001b[1;31mTypeError\u001b[0m                                 Traceback (most recent call last)",
      "\u001b[1;32m<ipython-input-35-69cbf79ce1d6>\u001b[0m in \u001b[0;36m<module>\u001b[1;34m\u001b[0m\n\u001b[1;32m----> 1\u001b[1;33m \u001b[0mcart_4\u001b[0m\u001b[1;33m[\u001b[0m\u001b[1;36m2\u001b[0m\u001b[1;33m]\u001b[0m \u001b[1;33m=\u001b[0m \u001b[1;34m'Tomato'\u001b[0m\u001b[1;33m\u001b[0m\u001b[1;33m\u001b[0m\u001b[0m\n\u001b[0m",
      "\u001b[1;31mTypeError\u001b[0m: 'tuple' object does not support item assignment"
     ]
    }
   ],
   "source": [
    "cart_4[2] = 'Tomato'"
   ]
  },
  {
   "cell_type": "markdown",
   "id": "18314358",
   "metadata": {},
   "source": [
    "## 4. Dict --- KEY-VALUE pair\n",
    "\n",
    "* 2D\n",
    "* Allows duplicate values but not keys\n",
    "* Not indexable\n",
    "* Mutable\n",
    "* Heteregenous"
   ]
  },
  {
   "cell_type": "code",
   "execution_count": 37,
   "id": "1ef48a88",
   "metadata": {},
   "outputs": [
    {
     "data": {
      "text/plain": [
       "{}"
      ]
     },
     "execution_count": 37,
     "metadata": {},
     "output_type": "execute_result"
    }
   ],
   "source": [
    "empty_cart_5 = {}\n",
    "empty_cart_5"
   ]
  },
  {
   "cell_type": "code",
   "execution_count": 38,
   "id": "6c31fd26",
   "metadata": {},
   "outputs": [
    {
     "data": {
      "text/plain": [
       "dict"
      ]
     },
     "execution_count": 38,
     "metadata": {},
     "output_type": "execute_result"
    }
   ],
   "source": [
    "type(empty_cart_5)"
   ]
  },
  {
   "cell_type": "code",
   "execution_count": 45,
   "id": "4ee3b069",
   "metadata": {},
   "outputs": [
    {
     "data": {
      "text/plain": [
       "{'Potato': 3, 'Tomato': 2, 'Oats  ': 0.5, 'Orange': 3}"
      ]
     },
     "execution_count": 45,
     "metadata": {},
     "output_type": "execute_result"
    }
   ],
   "source": [
    "cart_5 = {'Potato':3,\n",
    "          'Tomato':2,\n",
    "          'Oats  ':0.5,\n",
    "          'Orange':3}\n",
    "cart_5"
   ]
  },
  {
   "cell_type": "code",
   "execution_count": 47,
   "id": "fa5e109e",
   "metadata": {},
   "outputs": [
    {
     "data": {
      "text/plain": [
       "dict_keys(['Potato', 'Tomato', 'Oats  ', 'Orange'])"
      ]
     },
     "execution_count": 47,
     "metadata": {},
     "output_type": "execute_result"
    }
   ],
   "source": [
    "cart_5.keys()"
   ]
  },
  {
   "cell_type": "code",
   "execution_count": 48,
   "id": "dadf9ac1",
   "metadata": {},
   "outputs": [
    {
     "data": {
      "text/plain": [
       "dict_values([3, 2, 0.5, 3])"
      ]
     },
     "execution_count": 48,
     "metadata": {},
     "output_type": "execute_result"
    }
   ],
   "source": [
    "cart_5.values()"
   ]
  },
  {
   "cell_type": "code",
   "execution_count": null,
   "id": "42bdb750",
   "metadata": {},
   "outputs": [],
   "source": [
    "cart_5.update()"
   ]
  },
  {
   "cell_type": "code",
   "execution_count": null,
   "id": "78e4f7ee",
   "metadata": {},
   "outputs": [],
   "source": [
    "dict."
   ]
  },
  {
   "cell_type": "code",
   "execution_count": 49,
   "id": "1504698b",
   "metadata": {},
   "outputs": [],
   "source": [
    "import pandas as pd"
   ]
  },
  {
   "cell_type": "code",
   "execution_count": 59,
   "id": "f140eea4",
   "metadata": {},
   "outputs": [],
   "source": [
    "user_details = {'SNO' : [1,2],\n",
    "                'Name': ['Sangeeth','Alish'],\n",
    "                'Age' : [34,28]}"
   ]
  },
  {
   "cell_type": "code",
   "execution_count": 57,
   "id": "f0adcdaf",
   "metadata": {},
   "outputs": [
    {
     "data": {
      "text/plain": [
       "{'SNO': [1, 2], 'Name': ['Sangeeth', 'Alish'], 'Age': [34, 28]}"
      ]
     },
     "execution_count": 57,
     "metadata": {},
     "output_type": "execute_result"
    }
   ],
   "source": [
    "user_details"
   ]
  },
  {
   "cell_type": "code",
   "execution_count": 58,
   "id": "288de454",
   "metadata": {},
   "outputs": [
    {
     "data": {
      "text/html": [
       "<div>\n",
       "<style scoped>\n",
       "    .dataframe tbody tr th:only-of-type {\n",
       "        vertical-align: middle;\n",
       "    }\n",
       "\n",
       "    .dataframe tbody tr th {\n",
       "        vertical-align: top;\n",
       "    }\n",
       "\n",
       "    .dataframe thead th {\n",
       "        text-align: right;\n",
       "    }\n",
       "</style>\n",
       "<table border=\"1\" class=\"dataframe\">\n",
       "  <thead>\n",
       "    <tr style=\"text-align: right;\">\n",
       "      <th></th>\n",
       "      <th>SNO</th>\n",
       "      <th>Name</th>\n",
       "      <th>Age</th>\n",
       "    </tr>\n",
       "  </thead>\n",
       "  <tbody>\n",
       "    <tr>\n",
       "      <th>0</th>\n",
       "      <td>1</td>\n",
       "      <td>Sangeeth</td>\n",
       "      <td>34</td>\n",
       "    </tr>\n",
       "    <tr>\n",
       "      <th>1</th>\n",
       "      <td>2</td>\n",
       "      <td>Alish</td>\n",
       "      <td>28</td>\n",
       "    </tr>\n",
       "  </tbody>\n",
       "</table>\n",
       "</div>"
      ],
      "text/plain": [
       "   SNO      Name  Age\n",
       "0    1  Sangeeth   34\n",
       "1    2     Alish   28"
      ]
     },
     "execution_count": 58,
     "metadata": {},
     "output_type": "execute_result"
    }
   ],
   "source": [
    "pd.DataFrame(user_details)"
   ]
  },
  {
   "cell_type": "markdown",
   "id": "83688c71",
   "metadata": {},
   "source": [
    "### TASK 3 - Get 2 examples for List, Set, Tuple and Dict functions.\n",
    "\n",
    "### TASK 4 - List Comprehension"
   ]
  },
  {
   "cell_type": "code",
   "execution_count": 63,
   "id": "1c9c92ac",
   "metadata": {},
   "outputs": [
    {
     "data": {
      "text/plain": [
       "[2, 4, 6, 8, 10, 12, 14, 16, 18, 20]"
      ]
     },
     "execution_count": 63,
     "metadata": {},
     "output_type": "execute_result"
    }
   ],
   "source": [
    "[i for i in range(1,21) if i%2 == 0]"
   ]
  }
 ],
 "metadata": {
  "kernelspec": {
   "display_name": "Python 3",
   "language": "python",
   "name": "python3"
  },
  "language_info": {
   "codemirror_mode": {
    "name": "ipython",
    "version": 3
   },
   "file_extension": ".py",
   "mimetype": "text/x-python",
   "name": "python",
   "nbconvert_exporter": "python",
   "pygments_lexer": "ipython3",
   "version": "3.8.8"
  }
 },
 "nbformat": 4,
 "nbformat_minor": 5
}
